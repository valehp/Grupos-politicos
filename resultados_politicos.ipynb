{
 "cells": [
  {
   "cell_type": "code",
   "execution_count": 1,
   "metadata": {},
   "outputs": [],
   "source": [
    "from greedy import *\n",
    "from GeneradorDataset import GenerarDatos\n",
    "import numpy as np\n",
    "import pandas as pd \n",
    "import random, time\n",
    "import matplotlib.pyplot as plt\n",
    "import argparse\n",
    "import scipy.stats as ss\n",
    "import os\n",
    "from Metricas import *\n",
    "from test_politico_resultados import *"
   ]
  },
  {
   "cell_type": "code",
   "execution_count": 2,
   "metadata": {},
   "outputs": [],
   "source": [
    "data = pd.read_csv(\"./Grupos para debates políticos.csv\")\n",
    "efectos = pd.read_csv(\"EfectosRespuestas.csv\", index_col=0)"
   ]
  },
  {
   "cell_type": "code",
   "execution_count": 3,
   "metadata": {},
   "outputs": [],
   "source": [
    "\"\"\"\n",
    "DATAFRAME CON RESULTADOS\n",
    "Columnas:\n",
    "    - RUT\n",
    "    - ECONOMIA\n",
    "    - DIPLOMACIA\n",
    "    - ESTADO\n",
    "    - SOCIEDAD\n",
    "\"\"\"\n",
    "res = pd.DataFrame()"
   ]
  },
  {
   "cell_type": "code",
   "execution_count": 5,
   "metadata": {},
   "outputs": [],
   "source": [
    "ruts = []\n",
    "ECONOMIA = []\n",
    "DIPLOMACIA = []\n",
    "ESTADO = []\n",
    "SOCIEDAD = []\n",
    "\n",
    "for i in data.index:\n",
    "    aux = data.iloc[i]\n",
    "    r = aux.RUT\n",
    "\n",
    "    # Parcear RUT como 12345678-9\n",
    "    while '.' in r: r = r.replace(\".\", \"\")\n",
    "\n",
    "    while \" \" in r: r = r.replace(\" \", \"\")\n",
    "    \n",
    "    if '-' not in r: r = r[:-1] + \"-\" + r[-1]\n",
    "\n",
    "    ec, di, es, so =  calcular_puntaje(aux, data.columns[2:], efectos) \n",
    "    ECONOMIA.append(ec)\n",
    "    DIPLOMACIA.append(di)\n",
    "    ESTADO.append(es)\n",
    "    SOCIEDAD.append(so)\n",
    "\n",
    "    "
   ]
  },
  {
   "cell_type": "code",
   "execution_count": 6,
   "metadata": {},
   "outputs": [],
   "source": [
    "res[\"RUT\"] = ruts\n",
    "res[\"ECONOMIA\"] = ECONOMIA\n",
    "res[\"DIPLOMACIA\"] = DIPLOMACIA\n",
    "res[\"ESTADO\"] = ESTADO\n",
    "res[\"SOCIEDAD\"] = SOCIEDAD\n",
    "res.to_csv(\"Resultados test politicos.csv\")"
   ]
  },
  {
   "cell_type": "code",
   "execution_count": null,
   "metadata": {},
   "outputs": [],
   "source": []
  }
 ],
 "metadata": {
  "kernelspec": {
   "display_name": "Python 3.8.10 64-bit (windows store)",
   "language": "python",
   "name": "python3"
  },
  "language_info": {
   "codemirror_mode": {
    "name": "ipython",
    "version": 3
   },
   "file_extension": ".py",
   "mimetype": "text/x-python",
   "name": "python",
   "nbconvert_exporter": "python",
   "pygments_lexer": "ipython3",
   "version": "3.8.10"
  },
  "orig_nbformat": 4,
  "vscode": {
   "interpreter": {
    "hash": "d739801fae96237a5cef0e1843dba67aaca7e422335112bfae2e3ed612e2f451"
   }
  }
 },
 "nbformat": 4,
 "nbformat_minor": 2
}
